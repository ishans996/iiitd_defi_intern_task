{
 "cells": [
  {
   "cell_type": "code",
   "execution_count": 1,
   "id": "631a4fbb",
   "metadata": {},
   "outputs": [
    {
     "name": "stderr",
     "output_type": "stream",
     "text": [
      "/home/ishans996/myProjects/rawnit_sawhney_defi_task/venv/lib/python3.8/site-packages/tqdm/auto.py:22: TqdmWarning: IProgress not found. Please update jupyter and ipywidgets. See https://ipywidgets.readthedocs.io/en/stable/user_install.html\n",
      "  from .autonotebook import tqdm as notebook_tqdm\n"
     ]
    }
   ],
   "source": [
    "import torch"
   ]
  },
  {
   "cell_type": "code",
   "execution_count": 2,
   "id": "34903cf0",
   "metadata": {},
   "outputs": [],
   "source": [
    "import torch.nn as nn"
   ]
  },
  {
   "cell_type": "code",
   "execution_count": 22,
   "id": "69bff363",
   "metadata": {},
   "outputs": [],
   "source": [
    "import numpy as np"
   ]
  },
  {
   "cell_type": "code",
   "execution_count": 39,
   "id": "2396ed11",
   "metadata": {},
   "outputs": [],
   "source": [
    "x = torch.tensor([ 0.0005,\n",
    "        -0.0056,\n",
    "        -0.0127, \n",
    "        np.NINF\n",
    "                 ])"
   ]
  },
  {
   "cell_type": "code",
   "execution_count": 40,
   "id": "7cd8035a",
   "metadata": {},
   "outputs": [],
   "source": [
    "exp = torch.exp(x)"
   ]
  },
  {
   "cell_type": "code",
   "execution_count": 42,
   "id": "5d4a3bd9",
   "metadata": {},
   "outputs": [],
   "source": [
    "t = exp / torch.sum(exp)"
   ]
  },
  {
   "cell_type": "code",
   "execution_count": 43,
   "id": "4744933c",
   "metadata": {},
   "outputs": [
    {
     "data": {
      "text/plain": [
       "tensor([0.3355, 0.3334, 0.3311, 0.0000])"
      ]
     },
     "execution_count": 43,
     "metadata": {},
     "output_type": "execute_result"
    }
   ],
   "source": [
    "t"
   ]
  },
  {
   "cell_type": "code",
   "execution_count": 45,
   "id": "63b55ce4",
   "metadata": {},
   "outputs": [],
   "source": [
    "t[-1] = np.nan"
   ]
  },
  {
   "cell_type": "code",
   "execution_count": 46,
   "id": "66701f99",
   "metadata": {},
   "outputs": [
    {
     "data": {
      "text/plain": [
       "tensor([0.3355, 0.3334, 0.3311,    nan])"
      ]
     },
     "execution_count": 46,
     "metadata": {},
     "output_type": "execute_result"
    }
   ],
   "source": [
    "t"
   ]
  },
  {
   "cell_type": "code",
   "execution_count": 48,
   "id": "619e2b0e",
   "metadata": {},
   "outputs": [
    {
     "data": {
      "text/plain": [
       "tensor([0.3355, 0.3334, 0.3311, 0.0000])"
      ]
     },
     "execution_count": 48,
     "metadata": {},
     "output_type": "execute_result"
    }
   ],
   "source": [
    "torch.where(torch.isnan(t), torch.tensor(0, dtype=torch.float32), t)"
   ]
  },
  {
   "cell_type": "code",
   "execution_count": null,
   "id": "379a13eb",
   "metadata": {},
   "outputs": [],
   "source": []
  }
 ],
 "metadata": {
  "kernelspec": {
   "display_name": "Python 3 (ipykernel)",
   "language": "python",
   "name": "python3"
  },
  "language_info": {
   "codemirror_mode": {
    "name": "ipython",
    "version": 3
   },
   "file_extension": ".py",
   "mimetype": "text/x-python",
   "name": "python",
   "nbconvert_exporter": "python",
   "pygments_lexer": "ipython3",
   "version": "3.8.10"
  }
 },
 "nbformat": 4,
 "nbformat_minor": 5
}
