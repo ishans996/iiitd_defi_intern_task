{
 "cells": [
  {
   "cell_type": "code",
   "execution_count": 8,
   "id": "a3fce0a7",
   "metadata": {},
   "outputs": [],
   "source": [
    "import pandas as pd\n",
    "import numpy as np"
   ]
  },
  {
   "cell_type": "code",
   "execution_count": 9,
   "id": "fc9674a0",
   "metadata": {},
   "outputs": [],
   "source": [
    "df = pd.read_csv(\"dataset/ParlVote/ParlVote_concat.csv\")"
   ]
  },
  {
   "cell_type": "code",
   "execution_count": 10,
   "id": "27277288",
   "metadata": {},
   "outputs": [
    {
     "data": {
      "text/html": [
       "<div>\n",
       "<style scoped>\n",
       "    .dataframe tbody tr th:only-of-type {\n",
       "        vertical-align: middle;\n",
       "    }\n",
       "\n",
       "    .dataframe tbody tr th {\n",
       "        vertical-align: top;\n",
       "    }\n",
       "\n",
       "    .dataframe thead th {\n",
       "        text-align: right;\n",
       "    }\n",
       "</style>\n",
       "<table border=\"1\" class=\"dataframe\">\n",
       "  <thead>\n",
       "    <tr style=\"text-align: right;\">\n",
       "      <th></th>\n",
       "      <th>debate_id</th>\n",
       "      <th>motion_speaker_id</th>\n",
       "      <th>motion_speaker_name</th>\n",
       "      <th>motion_party</th>\n",
       "      <th>debate_title</th>\n",
       "      <th>motion_text</th>\n",
       "      <th>speaker_id</th>\n",
       "      <th>speaker_name</th>\n",
       "      <th>party</th>\n",
       "      <th>vote</th>\n",
       "      <th>speech</th>\n",
       "    </tr>\n",
       "  </thead>\n",
       "  <tbody>\n",
       "    <tr>\n",
       "      <th>0</th>\n",
       "      <td>1997-05-19a.379.7</td>\n",
       "      <td>10394</td>\n",
       "      <td>Maclean, David</td>\n",
       "      <td>conservative</td>\n",
       "      <td>Orders of the Day — Home Affairs</td>\n",
       "      <td>I beg to move as an amendment to the Address t...</td>\n",
       "      <td>10105</td>\n",
       "      <td>Clapham, Michael</td>\n",
       "      <td>labour</td>\n",
       "      <td>0</td>\n",
       "      <td>The right hon Gentleman has recited a catalogu...</td>\n",
       "    </tr>\n",
       "    <tr>\n",
       "      <th>1</th>\n",
       "      <td>1997-05-19a.379.7</td>\n",
       "      <td>10394</td>\n",
       "      <td>Maclean, David</td>\n",
       "      <td>conservative</td>\n",
       "      <td>Orders of the Day — Home Affairs</td>\n",
       "      <td>I beg to move as an amendment to the Address t...</td>\n",
       "      <td>10556</td>\n",
       "      <td>Soley, Clive</td>\n",
       "      <td>labour</td>\n",
       "      <td>0</td>\n",
       "      <td>I am not sure whether this has occurred to the...</td>\n",
       "    </tr>\n",
       "    <tr>\n",
       "      <th>2</th>\n",
       "      <td>1997-05-19a.379.7</td>\n",
       "      <td>10394</td>\n",
       "      <td>Maclean, David</td>\n",
       "      <td>conservative</td>\n",
       "      <td>Orders of the Day — Home Affairs</td>\n",
       "      <td>I beg to move as an amendment to the Address t...</td>\n",
       "      <td>10138</td>\n",
       "      <td>Cox, Tom</td>\n",
       "      <td>labour</td>\n",
       "      <td>0</td>\n",
       "      <td>Before the right hon Gentleman leaves the subj...</td>\n",
       "    </tr>\n",
       "    <tr>\n",
       "      <th>3</th>\n",
       "      <td>1997-05-19a.379.7</td>\n",
       "      <td>10394</td>\n",
       "      <td>Maclean, David</td>\n",
       "      <td>conservative</td>\n",
       "      <td>Orders of the Day — Home Affairs</td>\n",
       "      <td>I beg to move as an amendment to the Address t...</td>\n",
       "      <td>10574</td>\n",
       "      <td>Straw, Jack</td>\n",
       "      <td>labour</td>\n",
       "      <td>0</td>\n",
       "      <td>I thank the right hon Member for Penrith and T...</td>\n",
       "    </tr>\n",
       "    <tr>\n",
       "      <th>4</th>\n",
       "      <td>1997-05-19a.379.7</td>\n",
       "      <td>10394</td>\n",
       "      <td>Maclean, David</td>\n",
       "      <td>conservative</td>\n",
       "      <td>Orders of the Day — Home Affairs</td>\n",
       "      <td>I beg to move as an amendment to the Address t...</td>\n",
       "      <td>10239</td>\n",
       "      <td>Grant, Bernie</td>\n",
       "      <td>labour</td>\n",
       "      <td>0</td>\n",
       "      <td>I thank my right hon Friend for giving way and...</td>\n",
       "    </tr>\n",
       "  </tbody>\n",
       "</table>\n",
       "</div>"
      ],
      "text/plain": [
       "           debate_id  motion_speaker_id motion_speaker_name  motion_party  \\\n",
       "0  1997-05-19a.379.7              10394      Maclean, David  conservative   \n",
       "1  1997-05-19a.379.7              10394      Maclean, David  conservative   \n",
       "2  1997-05-19a.379.7              10394      Maclean, David  conservative   \n",
       "3  1997-05-19a.379.7              10394      Maclean, David  conservative   \n",
       "4  1997-05-19a.379.7              10394      Maclean, David  conservative   \n",
       "\n",
       "                       debate_title  \\\n",
       "0  Orders of the Day — Home Affairs   \n",
       "1  Orders of the Day — Home Affairs   \n",
       "2  Orders of the Day — Home Affairs   \n",
       "3  Orders of the Day — Home Affairs   \n",
       "4  Orders of the Day — Home Affairs   \n",
       "\n",
       "                                         motion_text  speaker_id  \\\n",
       "0  I beg to move as an amendment to the Address t...       10105   \n",
       "1  I beg to move as an amendment to the Address t...       10556   \n",
       "2  I beg to move as an amendment to the Address t...       10138   \n",
       "3  I beg to move as an amendment to the Address t...       10574   \n",
       "4  I beg to move as an amendment to the Address t...       10239   \n",
       "\n",
       "       speaker_name   party  vote  \\\n",
       "0  Clapham, Michael  labour     0   \n",
       "1      Soley, Clive  labour     0   \n",
       "2          Cox, Tom  labour     0   \n",
       "3       Straw, Jack  labour     0   \n",
       "4     Grant, Bernie  labour     0   \n",
       "\n",
       "                                              speech  \n",
       "0  The right hon Gentleman has recited a catalogu...  \n",
       "1  I am not sure whether this has occurred to the...  \n",
       "2  Before the right hon Gentleman leaves the subj...  \n",
       "3  I thank the right hon Member for Penrith and T...  \n",
       "4  I thank my right hon Friend for giving way and...  "
      ]
     },
     "execution_count": 10,
     "metadata": {},
     "output_type": "execute_result"
    }
   ],
   "source": [
    "df.head()"
   ]
  },
  {
   "cell_type": "code",
   "execution_count": 11,
   "id": "209b3882",
   "metadata": {},
   "outputs": [],
   "source": [
    "from collections import defaultdict"
   ]
  },
  {
   "cell_type": "code",
   "execution_count": 12,
   "id": "7afc9db8",
   "metadata": {},
   "outputs": [],
   "source": [
    "# speakers[speaker_id: int] = list of tuples (debate_id, speech, vote)\n",
    "speakers = defaultdict(lambda: [])\n",
    "for idx, row in df.iterrows():\n",
    "    speakers[row[\"speaker_id\"]].append((row[\"debate_id\"], row[\"speech\"], row[\"vote\"]))\n",
    "    \n"
   ]
  },
  {
   "cell_type": "code",
   "execution_count": 19,
   "id": "76a3f400",
   "metadata": {},
   "outputs": [
    {
     "name": "stdout",
     "output_type": "stream",
     "text": [
      "1346\n"
     ]
    }
   ],
   "source": [
    "print(len(speakers))"
   ]
  },
  {
   "cell_type": "code",
   "execution_count": 21,
   "id": "eb7d40eb",
   "metadata": {},
   "outputs": [],
   "source": [
    "speaker_history_lens = []\n",
    "for sid, each in speakers.items():\n",
    "    speaker_history_lens.append(len(each)) "
   ]
  },
  {
   "cell_type": "code",
   "execution_count": 26,
   "id": "c8eaeca2",
   "metadata": {},
   "outputs": [
    {
     "data": {
      "image/png": "[encoded data removed]",
      "text/plain": [
       "<Figure size 432x288 with 1 Axes>"
      ]
     },
     "metadata": {
      "needs_background": "light"
     },
     "output_type": "display_data"
    }
   ],
   "source": [
    "import matplotlib.pyplot as plt\n",
    "fig = plt.figure()\n",
    "ax = fig.add_axes([0,0,1,1])\n",
    "# langs = ['C', 'C++', 'Java', 'Python', 'PHP']\n",
    "# students = [23,17,35,29,12]\n",
    "ax.hist(speaker_history_lens)\n",
    "plt.show()"
   ]
  },
  {
   "cell_type": "code",
   "execution_count": 34,
   "id": "ad036584",
   "metadata": {},
   "outputs": [],
   "source": [
    "speaker_history_lens_freq = defaultdict(lambda: 0)"
   ]
  },
  {
   "cell_type": "code",
   "execution_count": 35,
   "id": "16d47eaf",
   "metadata": {},
   "outputs": [],
   "source": [
    "for x in speaker_history_lens:\n",
    "    speaker_history_lens_freq[x] += 1"
   ]
  },
  {
   "cell_type": "code",
   "execution_count": 36,
   "id": "ba494a2e",
   "metadata": {},
   "outputs": [
    {
     "data": {
      "text/plain": [
       "defaultdict(<function __main__.<lambda>()>,\n",
       "            {1: 38,\n",
       "             2: 46,\n",
       "             3: 50,\n",
       "             4: 44,\n",
       "             5: 48,\n",
       "             6: 51,\n",
       "             7: 49,\n",
       "             8: 48,\n",
       "             9: 54,\n",
       "             10: 44,\n",
       "             11: 32,\n",
       "             12: 39,\n",
       "             13: 41,\n",
       "             14: 33,\n",
       "             15: 35,\n",
       "             16: 22,\n",
       "             17: 26,\n",
       "             18: 32,\n",
       "             19: 31,\n",
       "             20: 21,\n",
       "             21: 19,\n",
       "             22: 24,\n",
       "             23: 21,\n",
       "             24: 18,\n",
       "             25: 23,\n",
       "             26: 17,\n",
       "             27: 20,\n",
       "             28: 28,\n",
       "             29: 16,\n",
       "             30: 13,\n",
       "             31: 16,\n",
       "             32: 14,\n",
       "             33: 12,\n",
       "             34: 13,\n",
       "             35: 11,\n",
       "             36: 13,\n",
       "             37: 10,\n",
       "             38: 14,\n",
       "             39: 12,\n",
       "             40: 7,\n",
       "             41: 7,\n",
       "             42: 9,\n",
       "             43: 8,\n",
       "             44: 13,\n",
       "             45: 6,\n",
       "             46: 5,\n",
       "             47: 5,\n",
       "             48: 5,\n",
       "             49: 6,\n",
       "             50: 7,\n",
       "             51: 4,\n",
       "             52: 7,\n",
       "             53: 5,\n",
       "             54: 7,\n",
       "             55: 9,\n",
       "             56: 5,\n",
       "             57: 3,\n",
       "             58: 3,\n",
       "             59: 5,\n",
       "             60: 4,\n",
       "             61: 1,\n",
       "             62: 3,\n",
       "             63: 4,\n",
       "             64: 5,\n",
       "             65: 3,\n",
       "             66: 3,\n",
       "             67: 4,\n",
       "             68: 4,\n",
       "             69: 3,\n",
       "             70: 5,\n",
       "             71: 2,\n",
       "             72: 1,\n",
       "             73: 2,\n",
       "             74: 7,\n",
       "             75: 2,\n",
       "             76: 4,\n",
       "             77: 1,\n",
       "             79: 5,\n",
       "             81: 2,\n",
       "             82: 2,\n",
       "             83: 3,\n",
       "             84: 2,\n",
       "             85: 3,\n",
       "             87: 2,\n",
       "             88: 1,\n",
       "             89: 2,\n",
       "             90: 1,\n",
       "             91: 1,\n",
       "             93: 2,\n",
       "             94: 2,\n",
       "             96: 2,\n",
       "             97: 1,\n",
       "             98: 1,\n",
       "             99: 1,\n",
       "             101: 1,\n",
       "             103: 2,\n",
       "             105: 1,\n",
       "             106: 2,\n",
       "             108: 2,\n",
       "             109: 1,\n",
       "             110: 2,\n",
       "             111: 1,\n",
       "             115: 1,\n",
       "             116: 1,\n",
       "             118: 1,\n",
       "             120: 2,\n",
       "             123: 2,\n",
       "             128: 1,\n",
       "             129: 1,\n",
       "             142: 2,\n",
       "             154: 1,\n",
       "             157: 1,\n",
       "             158: 1,\n",
       "             160: 1,\n",
       "             173: 1,\n",
       "             178: 1,\n",
       "             187: 1,\n",
       "             284: 1})"
      ]
     },
     "execution_count": 36,
     "metadata": {},
     "output_type": "execute_result"
    }
   ],
   "source": [
    "speaker_history_lens_freq"
   ]
  },
  {
   "cell_type": "code",
   "execution_count": null,
   "id": "3f2a4d1c",
   "metadata": {},
   "outputs": [],
   "source": []
  }
 ],
 "metadata": {
  "kernelspec": {
   "display_name": "Python 3 (ipykernel)",
   "language": "python",
   "name": "python3"
  },
  "language_info": {
   "codemirror_mode": {
    "name": "ipython",
    "version": 3
   },
   "file_extension": ".py",
   "mimetype": "text/x-python",
   "name": "python",
   "nbconvert_exporter": "python",
   "pygments_lexer": "ipython3",
   "version": "3.8.10"
  }
 },
 "nbformat": 4,
 "nbformat_minor": 5
}
