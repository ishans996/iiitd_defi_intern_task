{
 "cells": [
  {
   "cell_type": "markdown",
   "id": "603994d6",
   "metadata": {},
   "source": [
    "# Naive Bayes"
   ]
  },
  {
   "cell_type": "code",
   "execution_count": 1,
   "id": "49b5186c",
   "metadata": {},
   "outputs": [],
   "source": [
    "import pandas as pd\n",
    "import numpy as np\n",
    "from sklearn.model_selection import train_test_split\n",
    "import joblib\n",
    "from sklearn.feature_extraction.text import CountVectorizer\n",
    "import string\n",
    "from numpy.random import permutation\n",
    "from sklearn.naive_bayes import MultinomialNB"
   ]
  },
  {
   "cell_type": "code",
   "execution_count": 2,
   "id": "9768dd2c",
   "metadata": {},
   "outputs": [],
   "source": [
    "df = pd.read_csv(\"dataset/ParlVote/ParlVote_concat.csv\")"
   ]
  },
  {
   "cell_type": "code",
   "execution_count": 3,
   "id": "91f321ee",
   "metadata": {},
   "outputs": [],
   "source": [
    "df = df.drop(list(set(df.columns) - set([\"speech\", \"vote\"])), axis = 1)"
   ]
  },
  {
   "cell_type": "code",
   "execution_count": 4,
   "id": "4cc5e5a9",
   "metadata": {},
   "outputs": [],
   "source": [
    "def preprocess_data(data):\n",
    "    # remove punctuation\n",
    "    data[\"speech\"] = data[\"speech\"].str.translate(str.maketrans('', '', string.punctuation))\n",
    "    return data"
   ]
  },
  {
   "cell_type": "code",
   "execution_count": 5,
   "id": "8bea121f",
   "metadata": {},
   "outputs": [],
   "source": [
    "# because the entire dataset didn't fit into memory\n",
    "def sample_small_balanced_dataset(n=10000):\n",
    "    global data\n",
    "    data_0 = data[data[\"vote\"] == 0]\n",
    "    data_1 = data[data[\"vote\"] == 1]\n",
    "    data_0 = data_0.iloc[permutation(len(data_0))[:int(n/2)]]\n",
    "    data_1 = data_1.iloc[permutation(len(data_1))[:int(n/2)]]\n",
    "    data = pd.concat([data_0, data_1])\n",
    "    return data"
   ]
  },
  {
   "cell_type": "code",
   "execution_count": 6,
   "id": "b74ab7e2",
   "metadata": {},
   "outputs": [],
   "source": [
    "data = preprocess_data(df)"
   ]
  },
  {
   "cell_type": "code",
   "execution_count": 15,
   "id": "34924f57",
   "metadata": {},
   "outputs": [
    {
     "name": "stdout",
     "output_type": "stream",
     "text": [
      "Dataset size: 20000 Test Accuracy: 0.5672\n"
     ]
    }
   ],
   "source": [
    "small_dataset_size = 20000\n",
    "data = sample_small_balanced_dataset(small_dataset_size)\n",
    "\n",
    "x_train, x_test, y_train, y_test = train_test_split(data[\"speech\"], data[\"vote\"], stratify=data[\"vote\"], test_size=0.25, random_state=42)\n",
    "\n",
    "# Vectorize text reviews to numbers\n",
    "vec = CountVectorizer(stop_words='english')\n",
    "x_train = vec.fit_transform(x_train).toarray()\n",
    "x_test = vec.transform(x_test).toarray()\n",
    "\n",
    "model = MultinomialNB()\n",
    "model.fit(x_train, y_train)\n",
    "\n",
    "print(\"Dataset size:\", small_dataset_size, \"Test Accuracy:\", model.score(x_test, y_test))"
   ]
  },
  {
   "cell_type": "markdown",
   "id": "5e3e802f",
   "metadata": {},
   "source": [
    "### Test report\n",
    "- Dataset size: 10000 Test Accuracy: 0.5708\n",
    "- Dataset size: 15000 Test Accuracy: 0.5796\n",
    "- Dataset size: 18000 Test Accuracy: 0.572\n",
    "- Dataset size: 20000 Test Accuracy: 0.5672"
   ]
  },
  {
   "cell_type": "code",
   "execution_count": null,
   "id": "25fdab36",
   "metadata": {},
   "outputs": [],
   "source": []
  }
 ],
 "metadata": {
  "kernelspec": {
   "display_name": "Python 3 (ipykernel)",
   "language": "python",
   "name": "python3"
  },
  "language_info": {
   "codemirror_mode": {
    "name": "ipython",
    "version": 3
   },
   "file_extension": ".py",
   "mimetype": "text/x-python",
   "name": "python",
   "nbconvert_exporter": "python",
   "pygments_lexer": "ipython3",
   "version": "3.8.10"
  }
 },
 "nbformat": 4,
 "nbformat_minor": 5
}
